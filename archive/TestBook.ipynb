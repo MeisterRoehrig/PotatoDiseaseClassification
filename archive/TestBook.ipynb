{
 "cells": [
  {
   "metadata": {},
   "cell_type": "markdown",
   "source": [
    "# 🥔 Potato Disease Classification with MobileNetV2\n",
    "\n",
    "This project uses **deep learning and transfer learning** to classify potato diseases from images using the **MobileNetV2** architecture pretrained on ImageNet.\n",
    "\n",
    "## 📂 Dataset\n",
    "Seven classes of potato conditions:\n",
    "- Black Scurf\n",
    "- Blackleg\n",
    "- Common Scab\n",
    "- Pink Rot\n",
    "- Dry Rot\n",
    "- Miscellaneous\n",
    "- Healthy Potatoes\n",
    "\n",
    "Each class contains 50–80 images, organized into folders.\n",
    "\n",
    "## 🔧 Key Features\n",
    "- **Preprocessing & Augmentation:** Random crop, horizontal flip, normalization\n",
    "- **Train/Test Split:** 80/20 with PyTorch's `random_split`\n",
    "- **Transfer Learning:** Fine-tunes MobileNetV2 for 7 disease classes\n",
    "- **Training:** Tracks best validation accuracy and saves model\n",
    "- **Visualization:** Displays sample images and prediction results\n",
    "\n",
    "## 📈 Performance\n",
    "- Achieved **~79.1%** best validation accuracy\n",
    "- Trained over **200 epochs** on GPU using SGD and learning rate scheduling\n",
    "\n",
    "## 🖼️ Sample Output\n",
    "Visual inspection of predictions using test images and matplotlib-based plots.\n",
    "\n",
    "## 💡 Use Case\n",
    "A scalable, lightweight image classifier for mobile apps, agricultural diagnostics, or embedded IoT systems in precision farming.\n",
    "\n",
    "---\n",
    "\n",
    "> Powered by PyTorch, OpenCV, and Matplotlib\n"
   ],
   "id": "9839fafeb44517e4"
  },
  {
   "metadata": {},
   "cell_type": "markdown",
   "source": "## Import Libraries",
   "id": "3279af47572cca53"
  },
  {
   "metadata": {},
   "cell_type": "code",
   "outputs": [],
   "execution_count": null,
   "source": [
    "# This is a heading\n",
    "## Test\n",
    "# Hallo das ist ein kleiner Test."
   ],
   "id": "c03511a0f65e9773"
  },
  {
   "metadata": {},
   "cell_type": "code",
   "outputs": [],
   "execution_count": null,
   "source": [
    "print(\"test\")\n",
    "\n",
    "print(\"test\")\n"
   ],
   "id": "19ee24f2"
  },
  {
   "metadata": {},
   "cell_type": "markdown",
   "source": "## Load Dataset",
   "id": "3fb09a41322dc662"
  },
  {
   "metadata": {},
   "cell_type": "markdown",
   "source": "## Exploratory Data Analysis (EDA)",
   "id": "4b3937babde8a13d"
  },
  {
   "metadata": {},
   "cell_type": "markdown",
   "source": "## Data Cleaning & Preprocessing",
   "id": "62eec9a6d0fa1134"
  },
  {
   "metadata": {},
   "cell_type": "markdown",
   "source": "## Split Data into Train / Test",
   "id": "91c6394dca4046f5"
  },
  {
   "metadata": {},
   "cell_type": "markdown",
   "source": "## Apply ML Model",
   "id": "58d61bf171a6a390"
  },
  {
   "metadata": {},
   "cell_type": "markdown",
   "source": "## Evaluate Results",
   "id": "30f6591bad1fde"
  },
  {
   "metadata": {},
   "cell_type": "markdown",
   "source": "## Summary and Conclusion",
   "id": "b6b2e64ecba5e51c"
  }
 ],
 "metadata": {
  "language_info": {
   "name": "python"
  }
 },
 "nbformat": 4,
 "nbformat_minor": 5
}
